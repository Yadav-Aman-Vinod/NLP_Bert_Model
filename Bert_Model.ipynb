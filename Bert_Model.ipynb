{
  "nbformat": 4,
  "nbformat_minor": 0,
  "metadata": {
    "colab": {
      "provenance": [],
      "gpuType": "T4"
    },
    "kernelspec": {
      "name": "python3",
      "display_name": "Python 3"
    },
    "language_info": {
      "name": "python"
    },
    "accelerator": "GPU",
    "widgets": {
      "application/vnd.jupyter.widget-state+json": {
        "1affb7e8ca8743d49a3deb7c15c159fc": {
          "model_module": "@jupyter-widgets/controls",
          "model_name": "HBoxModel",
          "model_module_version": "1.5.0",
          "state": {
            "_dom_classes": [],
            "_model_module": "@jupyter-widgets/controls",
            "_model_module_version": "1.5.0",
            "_model_name": "HBoxModel",
            "_view_count": null,
            "_view_module": "@jupyter-widgets/controls",
            "_view_module_version": "1.5.0",
            "_view_name": "HBoxView",
            "box_style": "",
            "children": [
              "IPY_MODEL_a170658d12be42a7916f298f1bd0e1e5",
              "IPY_MODEL_4d93d93fff0c45c3a94120f9663ed7e0",
              "IPY_MODEL_bc7df0241e5149cc8e7f7b1826c2717a"
            ],
            "layout": "IPY_MODEL_6b13e47f7d7f40be8dc96fee83bead0d"
          }
        },
        "a170658d12be42a7916f298f1bd0e1e5": {
          "model_module": "@jupyter-widgets/controls",
          "model_name": "HTMLModel",
          "model_module_version": "1.5.0",
          "state": {
            "_dom_classes": [],
            "_model_module": "@jupyter-widgets/controls",
            "_model_module_version": "1.5.0",
            "_model_name": "HTMLModel",
            "_view_count": null,
            "_view_module": "@jupyter-widgets/controls",
            "_view_module_version": "1.5.0",
            "_view_name": "HTMLView",
            "description": "",
            "description_tooltip": null,
            "layout": "IPY_MODEL_e4049c12bc8e4e53aaed0faedfc011a7",
            "placeholder": "​",
            "style": "IPY_MODEL_b48b2ba62a414ae390e4d228566bcc43",
            "value": "model.safetensors: 100%"
          }
        },
        "4d93d93fff0c45c3a94120f9663ed7e0": {
          "model_module": "@jupyter-widgets/controls",
          "model_name": "FloatProgressModel",
          "model_module_version": "1.5.0",
          "state": {
            "_dom_classes": [],
            "_model_module": "@jupyter-widgets/controls",
            "_model_module_version": "1.5.0",
            "_model_name": "FloatProgressModel",
            "_view_count": null,
            "_view_module": "@jupyter-widgets/controls",
            "_view_module_version": "1.5.0",
            "_view_name": "ProgressView",
            "bar_style": "success",
            "description": "",
            "description_tooltip": null,
            "layout": "IPY_MODEL_fe0c6454c06a4896b42771e96bcd984f",
            "max": 440449768,
            "min": 0,
            "orientation": "horizontal",
            "style": "IPY_MODEL_4318db728ff24be4b11a9be2792a6d9a",
            "value": 440449768
          }
        },
        "bc7df0241e5149cc8e7f7b1826c2717a": {
          "model_module": "@jupyter-widgets/controls",
          "model_name": "HTMLModel",
          "model_module_version": "1.5.0",
          "state": {
            "_dom_classes": [],
            "_model_module": "@jupyter-widgets/controls",
            "_model_module_version": "1.5.0",
            "_model_name": "HTMLModel",
            "_view_count": null,
            "_view_module": "@jupyter-widgets/controls",
            "_view_module_version": "1.5.0",
            "_view_name": "HTMLView",
            "description": "",
            "description_tooltip": null,
            "layout": "IPY_MODEL_0d524f75d9344758981c6195447f56cf",
            "placeholder": "​",
            "style": "IPY_MODEL_8224b374fe8349d08d0171ccdb6c9c17",
            "value": " 440M/440M [00:05&lt;00:00, 110MB/s]"
          }
        },
        "6b13e47f7d7f40be8dc96fee83bead0d": {
          "model_module": "@jupyter-widgets/base",
          "model_name": "LayoutModel",
          "model_module_version": "1.2.0",
          "state": {
            "_model_module": "@jupyter-widgets/base",
            "_model_module_version": "1.2.0",
            "_model_name": "LayoutModel",
            "_view_count": null,
            "_view_module": "@jupyter-widgets/base",
            "_view_module_version": "1.2.0",
            "_view_name": "LayoutView",
            "align_content": null,
            "align_items": null,
            "align_self": null,
            "border": null,
            "bottom": null,
            "display": null,
            "flex": null,
            "flex_flow": null,
            "grid_area": null,
            "grid_auto_columns": null,
            "grid_auto_flow": null,
            "grid_auto_rows": null,
            "grid_column": null,
            "grid_gap": null,
            "grid_row": null,
            "grid_template_areas": null,
            "grid_template_columns": null,
            "grid_template_rows": null,
            "height": null,
            "justify_content": null,
            "justify_items": null,
            "left": null,
            "margin": null,
            "max_height": null,
            "max_width": null,
            "min_height": null,
            "min_width": null,
            "object_fit": null,
            "object_position": null,
            "order": null,
            "overflow": null,
            "overflow_x": null,
            "overflow_y": null,
            "padding": null,
            "right": null,
            "top": null,
            "visibility": null,
            "width": null
          }
        },
        "e4049c12bc8e4e53aaed0faedfc011a7": {
          "model_module": "@jupyter-widgets/base",
          "model_name": "LayoutModel",
          "model_module_version": "1.2.0",
          "state": {
            "_model_module": "@jupyter-widgets/base",
            "_model_module_version": "1.2.0",
            "_model_name": "LayoutModel",
            "_view_count": null,
            "_view_module": "@jupyter-widgets/base",
            "_view_module_version": "1.2.0",
            "_view_name": "LayoutView",
            "align_content": null,
            "align_items": null,
            "align_self": null,
            "border": null,
            "bottom": null,
            "display": null,
            "flex": null,
            "flex_flow": null,
            "grid_area": null,
            "grid_auto_columns": null,
            "grid_auto_flow": null,
            "grid_auto_rows": null,
            "grid_column": null,
            "grid_gap": null,
            "grid_row": null,
            "grid_template_areas": null,
            "grid_template_columns": null,
            "grid_template_rows": null,
            "height": null,
            "justify_content": null,
            "justify_items": null,
            "left": null,
            "margin": null,
            "max_height": null,
            "max_width": null,
            "min_height": null,
            "min_width": null,
            "object_fit": null,
            "object_position": null,
            "order": null,
            "overflow": null,
            "overflow_x": null,
            "overflow_y": null,
            "padding": null,
            "right": null,
            "top": null,
            "visibility": null,
            "width": null
          }
        },
        "b48b2ba62a414ae390e4d228566bcc43": {
          "model_module": "@jupyter-widgets/controls",
          "model_name": "DescriptionStyleModel",
          "model_module_version": "1.5.0",
          "state": {
            "_model_module": "@jupyter-widgets/controls",
            "_model_module_version": "1.5.0",
            "_model_name": "DescriptionStyleModel",
            "_view_count": null,
            "_view_module": "@jupyter-widgets/base",
            "_view_module_version": "1.2.0",
            "_view_name": "StyleView",
            "description_width": ""
          }
        },
        "fe0c6454c06a4896b42771e96bcd984f": {
          "model_module": "@jupyter-widgets/base",
          "model_name": "LayoutModel",
          "model_module_version": "1.2.0",
          "state": {
            "_model_module": "@jupyter-widgets/base",
            "_model_module_version": "1.2.0",
            "_model_name": "LayoutModel",
            "_view_count": null,
            "_view_module": "@jupyter-widgets/base",
            "_view_module_version": "1.2.0",
            "_view_name": "LayoutView",
            "align_content": null,
            "align_items": null,
            "align_self": null,
            "border": null,
            "bottom": null,
            "display": null,
            "flex": null,
            "flex_flow": null,
            "grid_area": null,
            "grid_auto_columns": null,
            "grid_auto_flow": null,
            "grid_auto_rows": null,
            "grid_column": null,
            "grid_gap": null,
            "grid_row": null,
            "grid_template_areas": null,
            "grid_template_columns": null,
            "grid_template_rows": null,
            "height": null,
            "justify_content": null,
            "justify_items": null,
            "left": null,
            "margin": null,
            "max_height": null,
            "max_width": null,
            "min_height": null,
            "min_width": null,
            "object_fit": null,
            "object_position": null,
            "order": null,
            "overflow": null,
            "overflow_x": null,
            "overflow_y": null,
            "padding": null,
            "right": null,
            "top": null,
            "visibility": null,
            "width": null
          }
        },
        "4318db728ff24be4b11a9be2792a6d9a": {
          "model_module": "@jupyter-widgets/controls",
          "model_name": "ProgressStyleModel",
          "model_module_version": "1.5.0",
          "state": {
            "_model_module": "@jupyter-widgets/controls",
            "_model_module_version": "1.5.0",
            "_model_name": "ProgressStyleModel",
            "_view_count": null,
            "_view_module": "@jupyter-widgets/base",
            "_view_module_version": "1.2.0",
            "_view_name": "StyleView",
            "bar_color": null,
            "description_width": ""
          }
        },
        "0d524f75d9344758981c6195447f56cf": {
          "model_module": "@jupyter-widgets/base",
          "model_name": "LayoutModel",
          "model_module_version": "1.2.0",
          "state": {
            "_model_module": "@jupyter-widgets/base",
            "_model_module_version": "1.2.0",
            "_model_name": "LayoutModel",
            "_view_count": null,
            "_view_module": "@jupyter-widgets/base",
            "_view_module_version": "1.2.0",
            "_view_name": "LayoutView",
            "align_content": null,
            "align_items": null,
            "align_self": null,
            "border": null,
            "bottom": null,
            "display": null,
            "flex": null,
            "flex_flow": null,
            "grid_area": null,
            "grid_auto_columns": null,
            "grid_auto_flow": null,
            "grid_auto_rows": null,
            "grid_column": null,
            "grid_gap": null,
            "grid_row": null,
            "grid_template_areas": null,
            "grid_template_columns": null,
            "grid_template_rows": null,
            "height": null,
            "justify_content": null,
            "justify_items": null,
            "left": null,
            "margin": null,
            "max_height": null,
            "max_width": null,
            "min_height": null,
            "min_width": null,
            "object_fit": null,
            "object_position": null,
            "order": null,
            "overflow": null,
            "overflow_x": null,
            "overflow_y": null,
            "padding": null,
            "right": null,
            "top": null,
            "visibility": null,
            "width": null
          }
        },
        "8224b374fe8349d08d0171ccdb6c9c17": {
          "model_module": "@jupyter-widgets/controls",
          "model_name": "DescriptionStyleModel",
          "model_module_version": "1.5.0",
          "state": {
            "_model_module": "@jupyter-widgets/controls",
            "_model_module_version": "1.5.0",
            "_model_name": "DescriptionStyleModel",
            "_view_count": null,
            "_view_module": "@jupyter-widgets/base",
            "_view_module_version": "1.2.0",
            "_view_name": "StyleView",
            "description_width": ""
          }
        }
      }
    }
  },
  "cells": [
    {
      "cell_type": "code",
      "execution_count": null,
      "metadata": {
        "colab": {
          "base_uri": "https://localhost:8080/"
        },
        "id": "EjkGWt4l1otm",
        "outputId": "081bcaec-515c-4c64-8220-826141ae8d3f"
      },
      "outputs": [
        {
          "output_type": "stream",
          "name": "stdout",
          "text": [
            "Requirement already satisfied: transformers in /usr/local/lib/python3.10/dist-packages (4.35.2)\n",
            "Requirement already satisfied: filelock in /usr/local/lib/python3.10/dist-packages (from transformers) (3.13.1)\n",
            "Requirement already satisfied: huggingface-hub<1.0,>=0.16.4 in /usr/local/lib/python3.10/dist-packages (from transformers) (0.19.4)\n",
            "Requirement already satisfied: numpy>=1.17 in /usr/local/lib/python3.10/dist-packages (from transformers) (1.23.5)\n",
            "Requirement already satisfied: packaging>=20.0 in /usr/local/lib/python3.10/dist-packages (from transformers) (23.2)\n",
            "Requirement already satisfied: pyyaml>=5.1 in /usr/local/lib/python3.10/dist-packages (from transformers) (6.0.1)\n",
            "Requirement already satisfied: regex!=2019.12.17 in /usr/local/lib/python3.10/dist-packages (from transformers) (2023.6.3)\n",
            "Requirement already satisfied: requests in /usr/local/lib/python3.10/dist-packages (from transformers) (2.31.0)\n",
            "Requirement already satisfied: tokenizers<0.19,>=0.14 in /usr/local/lib/python3.10/dist-packages (from transformers) (0.15.0)\n",
            "Requirement already satisfied: safetensors>=0.3.1 in /usr/local/lib/python3.10/dist-packages (from transformers) (0.4.1)\n",
            "Requirement already satisfied: tqdm>=4.27 in /usr/local/lib/python3.10/dist-packages (from transformers) (4.66.1)\n",
            "Requirement already satisfied: fsspec>=2023.5.0 in /usr/local/lib/python3.10/dist-packages (from huggingface-hub<1.0,>=0.16.4->transformers) (2023.6.0)\n",
            "Requirement already satisfied: typing-extensions>=3.7.4.3 in /usr/local/lib/python3.10/dist-packages (from huggingface-hub<1.0,>=0.16.4->transformers) (4.5.0)\n",
            "Requirement already satisfied: charset-normalizer<4,>=2 in /usr/local/lib/python3.10/dist-packages (from requests->transformers) (3.3.2)\n",
            "Requirement already satisfied: idna<4,>=2.5 in /usr/local/lib/python3.10/dist-packages (from requests->transformers) (3.6)\n",
            "Requirement already satisfied: urllib3<3,>=1.21.1 in /usr/local/lib/python3.10/dist-packages (from requests->transformers) (2.0.7)\n",
            "Requirement already satisfied: certifi>=2017.4.17 in /usr/local/lib/python3.10/dist-packages (from requests->transformers) (2023.11.17)\n"
          ]
        }
      ],
      "source": [
        "pip install transformers"
      ]
    },
    {
      "cell_type": "code",
      "source": [
        "pip install scikit-learn"
      ],
      "metadata": {
        "colab": {
          "base_uri": "https://localhost:8080/"
        },
        "id": "Fks7tb3q15je",
        "outputId": "d72007d5-a590-4380-bf92-86dab6666feb"
      },
      "execution_count": null,
      "outputs": [
        {
          "output_type": "stream",
          "name": "stdout",
          "text": [
            "Requirement already satisfied: scikit-learn in /usr/local/lib/python3.10/dist-packages (1.2.2)\n",
            "Requirement already satisfied: numpy>=1.17.3 in /usr/local/lib/python3.10/dist-packages (from scikit-learn) (1.23.5)\n",
            "Requirement already satisfied: scipy>=1.3.2 in /usr/local/lib/python3.10/dist-packages (from scikit-learn) (1.11.4)\n",
            "Requirement already satisfied: joblib>=1.1.1 in /usr/local/lib/python3.10/dist-packages (from scikit-learn) (1.3.2)\n",
            "Requirement already satisfied: threadpoolctl>=2.0.0 in /usr/local/lib/python3.10/dist-packages (from scikit-learn) (3.2.0)\n"
          ]
        }
      ]
    },
    {
      "cell_type": "code",
      "source": [
        "import numpy as np\n",
        "import pandas as pd\n",
        "from sklearn.metrics import accuracy_score\n",
        "from transformers import BertTokenizer, BertForSequenceClassification, AdamW, get_linear_schedule_with_warmup\n",
        "import torch\n",
        "from torch.utils.data import DataLoader, TensorDataset, RandomSampler, SequentialSampler\n",
        "from tqdm import tqdm\n",
        "import matplotlib.pyplot as plt\n",
        "from sklearn.metrics import confusion_matrix, ConfusionMatrixDisplay\n",
        "\n",
        "# Load IMDB dataset\n",
        "imdb_train_df = pd.read_csv('train.csv')  \n",
        "imdb_test_df = pd.read_csv('test.csv')    \n",
        "\n",
        "tokenizer = BertTokenizer.from_pretrained('bert-base-uncased', do_lower_case=True)\n",
        "\n",
        "# Mapping for sentiment labels\n",
        "sentiment_label_mapping = {'neg': 0, 'pos': 1}\n",
        "\n",
        "# Encode the text data\n",
        "def encode_text(texts, sentiments, max_length=128):\n",
        "    input_ids = []\n",
        "    attention_masks = []\n",
        "    labels = []\n",
        "\n",
        "    for text, sentiment in zip(texts, sentiments):\n",
        "        encoded_dict = tokenizer.encode_plus(\n",
        "            text,\n",
        "            add_special_tokens=True,\n",
        "            max_length=max_length,\n",
        "            padding='max_length',\n",
        "            truncation=True,\n",
        "            return_tensors='pt',\n",
        "            return_attention_mask=True\n",
        "        )\n",
        "        input_ids.append(encoded_dict['input_ids'])\n",
        "        attention_masks.append(encoded_dict['attention_mask'])\n",
        "        labels.append(sentiment_label_mapping[sentiment])\n",
        "\n",
        "    return torch.cat(input_ids, dim=0), torch.cat(attention_masks, dim=0), torch.tensor(labels)\n",
        "\n",
        "# encode the training and testing data\n",
        "imdb_train_inputs, imdb_train_masks, imdb_train_labels = encode_text(imdb_train_df['text'].values, imdb_train_df['sentiment'].values)\n",
        "imdb_test_inputs, imdb_test_masks, imdb_test_labels = encode_text(imdb_test_df['text'].values, imdb_test_df['sentiment'].values)\n",
        "\n",
        "# creating batch file\n",
        "batch_size = 32\n",
        "imdb_train_data = TensorDataset(imdb_train_inputs, imdb_train_masks, imdb_train_labels)\n",
        "imdb_train_sampler = RandomSampler(imdb_train_data)\n",
        "imdb_train_dataloader = DataLoader(imdb_train_data, sampler=imdb_train_sampler, batch_size=batch_size)\n",
        "imdb_test_data = TensorDataset(imdb_test_inputs, imdb_test_masks, imdb_test_labels)\n",
        "imdb_test_sampler = SequentialSampler(imdb_test_data)\n",
        "imdb_test_dataloader = DataLoader(imdb_test_data, sampler=imdb_test_sampler, batch_size=batch_size)\n",
        "\n",
        "# model initialization\n",
        "model = BertForSequenceClassification.from_pretrained('bert-base-uncased', num_labels=len(sentiment_label_mapping))\n",
        "device = torch.device('cuda' if torch.cuda.is_available() else 'cpu')\n",
        "model.to(device)\n",
        "\n",
        "optimizer = AdamW(model.parameters(), lr=2e-5, eps=1e-8)\n",
        "epochs = 8  # Set to 8 epochs\n",
        "total_steps = len(imdb_train_dataloader) * epochs\n",
        "scheduler = get_linear_schedule_with_warmup(\n",
        "    optimizer,\n",
        "    num_warmup_steps=0,\n",
        "    num_training_steps=total_steps\n",
        ")\n",
        "\n",
        "# Lists to store training accuracy and test accuracy for each epoch\n",
        "imdb_train_accuracies = []\n",
        "imdb_test_accuracies = []\n",
        "\n",
        "# Lists to store training loss and test loss for each epoch\n",
        "imdb_train_losses = []\n",
        "imdb_test_losses = []\n",
        "\n",
        "# Training loop\n",
        "for epoch in range(epochs):\n",
        "    model.train()\n",
        "    total_loss = 0\n",
        "\n",
        "    for batch in tqdm(imdb_train_dataloader, desc=f'Epoch {epoch + 1}', unit=' batches'):\n",
        "        batch = tuple(t.to(device) for t in batch)\n",
        "        input_ids, attention_mask, labels = batch\n",
        "\n",
        "        model.zero_grad()\n",
        "\n",
        "        outputs = model(\n",
        "            input_ids,\n",
        "            attention_mask=attention_mask,\n",
        "            labels=labels\n",
        "        )\n",
        "\n",
        "        loss = outputs.loss\n",
        "        total_loss += loss.item()\n",
        "\n",
        "        loss.backward()\n",
        "        torch.nn.utils.clip_grad_norm_(model.parameters(), 1.0)\n",
        "\n",
        "        optimizer.step()\n",
        "        scheduler.step()\n",
        "\n",
        "    avg_train_loss = total_loss / len(imdb_train_dataloader)\n",
        "    imdb_train_losses.append(avg_train_loss)  # Store the training loss for visualization\n",
        "    print(f'Average training loss for epoch {epoch + 1}: {avg_train_loss:.4f}')\n",
        "\n",
        "    # Calculate training accuracy after each epoch\n",
        "    model.eval()\n",
        "    imdb_train_preds = []\n",
        "    imdb_train_true = []\n",
        "\n",
        "    for batch in tqdm(imdb_train_dataloader, desc=f'Evaluating (Train) - Epoch {epoch + 1}', unit=' batches'):\n",
        "        batch = tuple(t.to(device) for t in batch)\n",
        "        input_ids, attention_mask, labels = batch\n",
        "\n",
        "        with torch.no_grad():\n",
        "            outputs = model(input_ids, attention_mask=attention_mask)\n",
        "\n",
        "        logits = outputs.logits\n",
        "        preds = np.argmax(logits.to('cpu').numpy(), axis=1)\n",
        "        imdb_train_preds.extend(preds)\n",
        "        imdb_train_true.extend(labels.to('cpu').numpy())\n",
        "\n",
        "    train_accuracy = accuracy_score(imdb_train_true, imdb_train_preds)\n",
        "    imdb_train_accuracies.append(train_accuracy)\n",
        "\n",
        "    # Calculate test accuracy after each epoch\n",
        "    model.eval()\n",
        "    imdb_test_preds = []\n",
        "    imdb_test_true = []\n",
        "\n",
        "    for batch in tqdm(imdb_test_dataloader, desc=f'Evaluating (Test) - Epoch {epoch + 1}', unit=' batches'):\n",
        "        batch = tuple(t.to(device) for t in batch)\n",
        "        input_ids, attention_mask, labels = batch\n",
        "\n",
        "        with torch.no_grad():\n",
        "            outputs = model(input_ids, attention_mask=attention_mask)\n",
        "\n",
        "        logits = outputs.logits\n",
        "        preds = np.argmax(logits.to('cpu').numpy(), axis=1)\n",
        "        imdb_test_preds.extend(preds)\n",
        "        imdb_test_true.extend(labels.to('cpu').numpy())\n",
        "\n",
        "    test_accuracy = accuracy_score(imdb_test_true, imdb_test_preds)\n",
        "    imdb_test_accuracies.append(test_accuracy)\n",
        "\n",
        "    # Store test loss\n",
        "    model.eval()\n",
        "    total_test_loss = 0\n",
        "\n",
        "    for batch in tqdm(imdb_test_dataloader, desc=f'Calculating Test Loss - Epoch {epoch + 1}', unit=' batches'):\n",
        "        batch = tuple(t.to(device) for t in batch)\n",
        "        input_ids, attention_mask, labels = batch\n",
        "\n",
        "        with torch.no_grad():\n",
        "            outputs = model(\n",
        "                input_ids,\n",
        "                attention_mask=attention_mask,\n",
        "                labels=labels\n",
        "            )\n",
        "\n",
        "        loss = outputs.loss\n",
        "        total_test_loss += loss.item()\n",
        "\n",
        "    avg_test_loss = total_test_loss / len(imdb_test_dataloader)\n",
        "    imdb_test_losses.append(avg_test_loss)  # Store the test loss for visualization\n",
        "    print(f'Average test loss for epoch {epoch + 1}: {avg_test_loss:.4f}')\n",
        "\n",
        "# Plot\n",
        "plt.figure(figsize=(12, 5))\n",
        "plt.subplot(1, 2, 1)\n",
        "plt.plot(imdb_train_losses, label='Training Loss', color='blue')\n",
        "plt.plot(imdb_test_losses, label='Test Loss', color='orange', linestyle='--')\n",
        "plt.xlabel('Epoch')\n",
        "plt.ylabel('Loss')\n",
        "plt.title('Training and Test Loss Over Epochs')\n",
        "plt.legend()\n",
        "\n",
        "plt.subplot(1, 2, 2)\n",
        "plt.plot(imdb_train_accuracies, label='Training Accuracy', color='blue')\n",
        "plt.plot(imdb_test_accuracies, label='Test Accuracy', color='orange', linestyle='--')\n",
        "plt.xlabel('Epoch')\n",
        "plt.ylabel('Accuracy')\n",
        "plt.title('Training and Test Accuracy Over Epochs')\n",
        "plt.legend()\n",
        "plt.show()\n",
        "\n",
        "# Confusion matrix\n",
        "conf_matrix = confusion_matrix(imdb_test_true, imdb_test_preds)\n",
        "class_names = list(sentiment_label_mapping.keys())\n",
        "\n",
        "plt.figure(figsize=(8, 8))\n",
        "disp = ConfusionMatrixDisplay(conf_matrix, display_labels=class_names)\n",
        "disp.plot(cmap='Blues', values_format='d')\n",
        "plt.title('Confusion Matrix')\n",
        "plt.show()\n"
      ],
      "metadata": {
        "colab": {
          "base_uri": "https://localhost:8080/",
          "height": 1000,
          "referenced_widgets": [
            "1affb7e8ca8743d49a3deb7c15c159fc",
            "a170658d12be42a7916f298f1bd0e1e5",
            "4d93d93fff0c45c3a94120f9663ed7e0",
            "bc7df0241e5149cc8e7f7b1826c2717a",
            "6b13e47f7d7f40be8dc96fee83bead0d",
            "e4049c12bc8e4e53aaed0faedfc011a7",
            "b48b2ba62a414ae390e4d228566bcc43",
            "fe0c6454c06a4896b42771e96bcd984f",
            "4318db728ff24be4b11a9be2792a6d9a",
            "0d524f75d9344758981c6195447f56cf",
            "8224b374fe8349d08d0171ccdb6c9c17"
          ]
        },
        "id": "mODZQ-O2172x",
        "outputId": "d05fa60a-b9d6-44d1-f355-2cd4edba4a4e"
      },
      "execution_count": null,
      "outputs": [
        {
          "output_type": "display_data",
          "data": {
            "text/plain": [
              "model.safetensors:   0%|          | 0.00/440M [00:00<?, ?B/s]"
            ],
            "application/vnd.jupyter.widget-view+json": {
              "version_major": 2,
              "version_minor": 0,
              "model_id": "1affb7e8ca8743d49a3deb7c15c159fc"
            }
          },
          "metadata": {}
        },
        {
          "output_type": "stream",
          "name": "stderr",
          "text": [
            "Some weights of BertForSequenceClassification were not initialized from the model checkpoint at bert-base-uncased and are newly initialized: ['classifier.weight', 'classifier.bias']\n",
            "You should probably TRAIN this model on a down-stream task to be able to use it for predictions and inference.\n",
            "/usr/local/lib/python3.10/dist-packages/transformers/optimization.py:411: FutureWarning: This implementation of AdamW is deprecated and will be removed in a future version. Use the PyTorch implementation torch.optim.AdamW instead, or set `no_deprecation_warning=True` to disable this warning\n",
            "  warnings.warn(\n",
            "Epoch 1: 100%|██████████| 782/782 [08:46<00:00,  1.49 batches/s]\n"
          ]
        },
        {
          "output_type": "stream",
          "name": "stdout",
          "text": [
            "Average training loss for epoch 1: 0.3349\n"
          ]
        },
        {
          "output_type": "stream",
          "name": "stderr",
          "text": [
            "Evaluating (Train) - Epoch 1: 100%|██████████| 782/782 [02:56<00:00,  4.42 batches/s]\n",
            "Evaluating (Test) - Epoch 1: 100%|██████████| 782/782 [02:56<00:00,  4.44 batches/s]\n",
            "Calculating Test Loss - Epoch 1: 100%|██████████| 782/782 [02:55<00:00,  4.44 batches/s]\n"
          ]
        },
        {
          "output_type": "stream",
          "name": "stdout",
          "text": [
            "Average test loss for epoch 1: 0.2696\n"
          ]
        },
        {
          "output_type": "stream",
          "name": "stderr",
          "text": [
            "Epoch 2: 100%|██████████| 782/782 [08:55<00:00,  1.46 batches/s]\n"
          ]
        },
        {
          "output_type": "stream",
          "name": "stdout",
          "text": [
            "Average training loss for epoch 2: 0.2056\n"
          ]
        },
        {
          "output_type": "stream",
          "name": "stderr",
          "text": [
            "Evaluating (Train) - Epoch 2: 100%|██████████| 782/782 [02:56<00:00,  4.42 batches/s]\n",
            "Evaluating (Test) - Epoch 2: 100%|██████████| 782/782 [02:56<00:00,  4.44 batches/s]\n",
            "Calculating Test Loss - Epoch 2: 100%|██████████| 782/782 [02:57<00:00,  4.42 batches/s]\n"
          ]
        },
        {
          "output_type": "stream",
          "name": "stdout",
          "text": [
            "Average test loss for epoch 2: 0.3315\n"
          ]
        },
        {
          "output_type": "stream",
          "name": "stderr",
          "text": [
            "Epoch 3: 100%|██████████| 782/782 [08:55<00:00,  1.46 batches/s]\n"
          ]
        },
        {
          "output_type": "stream",
          "name": "stdout",
          "text": [
            "Average training loss for epoch 3: 0.1179\n"
          ]
        },
        {
          "output_type": "stream",
          "name": "stderr",
          "text": [
            "Evaluating (Train) - Epoch 3: 100%|██████████| 782/782 [02:56<00:00,  4.43 batches/s]\n",
            "Evaluating (Test) - Epoch 3: 100%|██████████| 782/782 [02:56<00:00,  4.43 batches/s]\n",
            "Calculating Test Loss - Epoch 3: 100%|██████████| 782/782 [02:56<00:00,  4.43 batches/s]\n"
          ]
        },
        {
          "output_type": "stream",
          "name": "stdout",
          "text": [
            "Average test loss for epoch 3: 0.4012\n"
          ]
        },
        {
          "output_type": "stream",
          "name": "stderr",
          "text": [
            "Epoch 4: 100%|██████████| 782/782 [08:55<00:00,  1.46 batches/s]\n"
          ]
        },
        {
          "output_type": "stream",
          "name": "stdout",
          "text": [
            "Average training loss for epoch 4: 0.0656\n"
          ]
        },
        {
          "output_type": "stream",
          "name": "stderr",
          "text": [
            "Evaluating (Train) - Epoch 4: 100%|██████████| 782/782 [02:55<00:00,  4.45 batches/s]\n",
            "Evaluating (Test) - Epoch 4: 100%|██████████| 782/782 [02:55<00:00,  4.45 batches/s]\n",
            "Calculating Test Loss - Epoch 4: 100%|██████████| 782/782 [02:56<00:00,  4.43 batches/s]\n"
          ]
        },
        {
          "output_type": "stream",
          "name": "stdout",
          "text": [
            "Average test loss for epoch 4: 0.5088\n"
          ]
        },
        {
          "output_type": "stream",
          "name": "stderr",
          "text": [
            "Epoch 5: 100%|██████████| 782/782 [08:55<00:00,  1.46 batches/s]\n"
          ]
        },
        {
          "output_type": "stream",
          "name": "stdout",
          "text": [
            "Average training loss for epoch 5: 0.0361\n"
          ]
        },
        {
          "output_type": "stream",
          "name": "stderr",
          "text": [
            "Evaluating (Train) - Epoch 5: 100%|██████████| 782/782 [02:57<00:00,  4.41 batches/s]\n",
            "Evaluating (Test) - Epoch 5: 100%|██████████| 782/782 [02:55<00:00,  4.44 batches/s]\n",
            "Calculating Test Loss - Epoch 5: 100%|██████████| 782/782 [02:56<00:00,  4.42 batches/s]\n"
          ]
        },
        {
          "output_type": "stream",
          "name": "stdout",
          "text": [
            "Average test loss for epoch 5: 0.5634\n"
          ]
        },
        {
          "output_type": "stream",
          "name": "stderr",
          "text": [
            "Epoch 6: 100%|██████████| 782/782 [08:54<00:00,  1.46 batches/s]\n"
          ]
        },
        {
          "output_type": "stream",
          "name": "stdout",
          "text": [
            "Average training loss for epoch 6: 0.0228\n"
          ]
        },
        {
          "output_type": "stream",
          "name": "stderr",
          "text": [
            "Evaluating (Train) - Epoch 6: 100%|██████████| 782/782 [02:56<00:00,  4.44 batches/s]\n",
            "Evaluating (Test) - Epoch 6: 100%|██████████| 782/782 [02:56<00:00,  4.43 batches/s]\n",
            "Calculating Test Loss - Epoch 6: 100%|██████████| 782/782 [02:56<00:00,  4.44 batches/s]\n"
          ]
        },
        {
          "output_type": "stream",
          "name": "stdout",
          "text": [
            "Average test loss for epoch 6: 0.6552\n"
          ]
        },
        {
          "output_type": "stream",
          "name": "stderr",
          "text": [
            "Epoch 7: 100%|██████████| 782/782 [08:55<00:00,  1.46 batches/s]\n"
          ]
        },
        {
          "output_type": "stream",
          "name": "stdout",
          "text": [
            "Average training loss for epoch 7: 0.0134\n"
          ]
        },
        {
          "output_type": "stream",
          "name": "stderr",
          "text": [
            "Evaluating (Train) - Epoch 7: 100%|██████████| 782/782 [02:55<00:00,  4.44 batches/s]\n",
            "Evaluating (Test) - Epoch 7: 100%|██████████| 782/782 [02:56<00:00,  4.44 batches/s]\n",
            "Calculating Test Loss - Epoch 7: 100%|██████████| 782/782 [02:56<00:00,  4.42 batches/s]\n"
          ]
        },
        {
          "output_type": "stream",
          "name": "stdout",
          "text": [
            "Average test loss for epoch 7: 0.7086\n"
          ]
        },
        {
          "output_type": "stream",
          "name": "stderr",
          "text": [
            "Epoch 8: 100%|██████████| 782/782 [08:56<00:00,  1.46 batches/s]\n"
          ]
        },
        {
          "output_type": "stream",
          "name": "stdout",
          "text": [
            "Average training loss for epoch 8: 0.0088\n"
          ]
        },
        {
          "output_type": "stream",
          "name": "stderr",
          "text": [
            "Evaluating (Train) - Epoch 8: 100%|██████████| 782/782 [02:55<00:00,  4.45 batches/s]\n",
            "Evaluating (Test) - Epoch 8: 100%|██████████| 782/782 [02:55<00:00,  4.45 batches/s]\n",
            "Calculating Test Loss - Epoch 8: 100%|██████████| 782/782 [02:56<00:00,  4.44 batches/s]\n"
          ]
        },
        {
          "output_type": "stream",
          "name": "stdout",
          "text": [
            "Average test loss for epoch 8: 0.7245\n"
          ]
        },
        {
          "output_type": "display_data",
          "data": {
            "text/plain": [
              "<Figure size 1200x500 with 2 Axes>"
            ],
            "image/png": "[encoded data removed]"
          },
          "metadata": {}
        },
        {
          "output_type": "display_data",
          "data": {
            "text/plain": [
              "<Figure size 800x800 with 0 Axes>"
            ]
          },
          "metadata": {}
        },
        {
          "output_type": "display_data",
          "data": {
            "text/plain": [
              "<Figure size 640x480 with 2 Axes>"
            ],
            "image/png": "[encoded data removed]"
          },
          "metadata": {}
        }
      ]
    },
    {
      "cell_type": "code",
      "source": [
        "new_accuracy = accuracy_score(imdb_test_true, imdb_test_preds)\n",
        "print(f'Accuracy on the new test set: {new_accuracy:.4f}')"
      ],
      "metadata": {
        "colab": {
          "base_uri": "https://localhost:8080/"
        },
        "id": "0Eyh-HOmJzTW",
        "outputId": "250a1e03-d302-4a78-af30-5f53717e011d"
      },
      "execution_count": null,
      "outputs": [
        {
          "output_type": "stream",
          "name": "stdout",
          "text": [
            "Accuracy on the new test set: 0.8881\n"
          ]
        }
      ]
    },
    {
      "cell_type": "code",
      "source": [
        "# Your own text for testing\n",
        "your_text = \"This movie is amazing!\"\n",
        "\n",
        "# Encode the text using the tokenizer\n",
        "encoded_text = tokenizer.encode_plus(\n",
        "    your_text,\n",
        "    add_special_tokens=True,\n",
        "    max_length=128,\n",
        "    padding='max_length',\n",
        "    truncation=True,\n",
        "    return_tensors='pt',\n",
        "    return_attention_mask=True\n",
        ")\n",
        "\n",
        "# Extract input_ids and attention_mask\n",
        "input_ids = encoded_text['input_ids']\n",
        "attention_mask = encoded_text['attention_mask']\n",
        "\n",
        "# Move tensors to the appropriate device\n",
        "input_ids = input_ids.to(device)\n",
        "attention_mask = attention_mask.to(device)\n",
        "\n",
        "# Make a forward pass to get the model's prediction\n",
        "with torch.no_grad():\n",
        "    outputs = model(input_ids, attention_mask=attention_mask)\n",
        "\n",
        "logits = outputs.logits\n",
        "prediction = torch.argmax(logits, dim=1).item()\n",
        "\n",
        "# Map the prediction back to the original label\n",
        "predicted_label = [key for key, value in sentiment_label_mapping.items() if value == prediction][0]\n",
        "\n",
        "print(f\"Your text: {your_text}\")\n",
        "print(f\"Predicted sentiment: {predicted_label}\")\n"
      ],
      "metadata": {
        "colab": {
          "base_uri": "https://localhost:8080/"
        },
        "id": "a8_NaQB3aKnB",
        "outputId": "ece2124a-cf57-474e-a5d0-c25cc4fa8fef"
      },
      "execution_count": null,
      "outputs": [
        {
          "output_type": "stream",
          "name": "stdout",
          "text": [
            "Your text: This movie is amazing!\n",
            "Predicted sentiment: pos\n"
          ]
        }
      ]
    },
    {
      "cell_type": "code",
      "source": [
        "# Your own text for testing\n",
        "your_text = \"Eh, they're feeling kinda meh\"\n",
        "\n",
        "# Encode the text using the tokenizer\n",
        "encoded_text = tokenizer.encode_plus(\n",
        "    your_text,\n",
        "    add_special_tokens=True,\n",
        "    max_length=128,\n",
        "    padding='max_length',\n",
        "    truncation=True,\n",
        "    return_tensors='pt',\n",
        "    return_attention_mask=True\n",
        ")\n",
        "\n",
        "# Extract input_ids and attention_mask\n",
        "input_ids = encoded_text['input_ids']\n",
        "attention_mask = encoded_text['attention_mask']\n",
        "\n",
        "# Move tensors to the appropriate device\n",
        "input_ids = input_ids.to(device)\n",
        "attention_mask = attention_mask.to(device)\n",
        "\n",
        "# Make a forward pass to get the model's prediction\n",
        "with torch.no_grad():\n",
        "    outputs = model(input_ids, attention_mask=attention_mask)\n",
        "\n",
        "logits = outputs.logits\n",
        "prediction = torch.argmax(logits, dim=1).item()\n",
        "\n",
        "# Map the prediction back to the original label\n",
        "predicted_label = [key for key, value in sentiment_label_mapping.items() if value == prediction][0]\n",
        "\n",
        "print(f\"Your text: {your_text}\")\n",
        "print(f\"Predicted sentiment: {predicted_label}\")\n"
      ],
      "metadata": {
        "colab": {
          "base_uri": "https://localhost:8080/"
        },
        "id": "VvY_VAXfaObi",
        "outputId": "1159b2aa-e851-4b21-f1d9-d3d01be5f6ed"
      },
      "execution_count": null,
      "outputs": [
        {
          "output_type": "stream",
          "name": "stdout",
          "text": [
            "Your text: Eh, they're feeling kinda meh\n",
            "Predicted sentiment: neg\n"
          ]
        }
      ]
    },
    {
      "cell_type": "code",
      "source": [
        "# Your own text for testing\n",
        "your_text = \"Ranbir Kapoor's 'Animal' Roars into Cinematic Brilliance \"\n",
        "\n",
        "# Encode the text using the tokenizer\n",
        "encoded_text = tokenizer.encode_plus(\n",
        "    your_text,\n",
        "    add_special_tokens=True,\n",
        "    max_length=128,\n",
        "    padding='max_length',\n",
        "    truncation=True,\n",
        "    return_tensors='pt',\n",
        "    return_attention_mask=True\n",
        ")\n",
        "\n",
        "# Extract input_ids and attention_mask\n",
        "input_ids = encoded_text['input_ids']\n",
        "attention_mask = encoded_text['attention_mask']\n",
        "\n",
        "# Move tensors to the appropriate device\n",
        "input_ids = input_ids.to(device)\n",
        "attention_mask = attention_mask.to(device)\n",
        "\n",
        "# Make a forward pass to get the model's prediction\n",
        "with torch.no_grad():\n",
        "    outputs = model(input_ids, attention_mask=attention_mask)\n",
        "\n",
        "logits = outputs.logits\n",
        "prediction = torch.argmax(logits, dim=1).item()\n",
        "\n",
        "# Map the prediction back to the original label\n",
        "predicted_label = [key for key, value in sentiment_label_mapping.items() if value == prediction][0]\n",
        "\n",
        "print(f\"Your text: {your_text}\")\n",
        "print(f\"Predicted sentiment: {predicted_label}\")\n"
      ],
      "metadata": {
        "colab": {
          "base_uri": "https://localhost:8080/"
        },
        "id": "Yi191rR3aZk5",
        "outputId": "6b67d8d0-5a64-40b1-c050-ac84cd297c4b"
      },
      "execution_count": null,
      "outputs": [
        {
          "output_type": "stream",
          "name": "stdout",
          "text": [
            "Your text: Ranbir Kapoor's 'Animal' Roars into Cinematic Brilliance \n",
            "Predicted sentiment: pos\n"
          ]
        }
      ]
    },
    {
      "cell_type": "code",
      "source": [
        "# Your own text for testing\n",
        "your_text = \"The Flash (2023)” bursts onto the screen with electrifying speed, delivering a superhero spectacle that lives up to its much-anticipated DC Universe status. The film offers an exhilarating experience that combines jaw-dropping action, mind-bending time travel, and unexpected twists, all of which had me on the edge of my seat.\"\n",
        "\n",
        "# Encode the text using the tokenizer\n",
        "encoded_text = tokenizer.encode_plus(\n",
        "    your_text,\n",
        "    add_special_tokens=True,\n",
        "    max_length=128,\n",
        "    padding='max_length',\n",
        "    truncation=True,\n",
        "    return_tensors='pt',\n",
        "    return_attention_mask=True\n",
        ")\n",
        "\n",
        "# Extract input_ids and attention_mask\n",
        "input_ids = encoded_text['input_ids']\n",
        "attention_mask = encoded_text['attention_mask']\n",
        "\n",
        "# Move tensors to the appropriate device\n",
        "input_ids = input_ids.to(device)\n",
        "attention_mask = attention_mask.to(device)\n",
        "\n",
        "# Make a forward pass to get the model's prediction\n",
        "with torch.no_grad():\n",
        "    outputs = model(input_ids, attention_mask=attention_mask)\n",
        "\n",
        "logits = outputs.logits\n",
        "prediction = torch.argmax(logits, dim=1).item()\n",
        "\n",
        "# Map the prediction back to the original label\n",
        "predicted_label = [key for key, value in sentiment_label_mapping.items() if value == prediction][0]\n",
        "\n",
        "print(f\"Your text: {your_text}\")\n",
        "print(f\"Predicted sentiment: {predicted_label}\")\n"
      ],
      "metadata": {
        "colab": {
          "base_uri": "https://localhost:8080/"
        },
        "id": "04f0oV_qanOG",
        "outputId": "fd13beaf-0166-448e-d1a9-69c98b2c7375"
      },
      "execution_count": null,
      "outputs": [
        {
          "output_type": "stream",
          "name": "stdout",
          "text": [
            "Your text: The Flash (2023)” bursts onto the screen with electrifying speed, delivering a superhero spectacle that lives up to its much-anticipated DC Universe status. The film offers an exhilarating experience that combines jaw-dropping action, mind-bending time travel, and unexpected twists, all of which had me on the edge of my seat.\n",
            "Predicted sentiment: pos\n"
          ]
        }
      ]
    },
    {
      "cell_type": "code",
      "source": [
        "# Your own text for testing\n",
        "your_text = \" Animal proves to be a colossal disappointment that leaves audiences questioning the sanity of its creators lots of critics are giving paid five star or four star reviews do not believe them this movie is nothing but a sob begging for the attention from his billionaire father such plot is stretched for almost four hours got no idea which person wrote such a story and ranbir agreed to do such a film when his career is already sinking Director Sandeep Vanga known for his previous work in Kabir Singh fails to replicate his earlier success instead delivering a convoluted storyline that lacks direction and purpose Vanga has a thing with misogyny and films objectifying women in kabir singh shahid is slapping kiara and in animal ranbir is glorifying infidellity by claiming its right in the name of his father what could go more pathetic than this \"\n",
        "\n",
        "# Encode the text using the tokenizer\n",
        "encoded_text = tokenizer.encode_plus(\n",
        "    your_text,\n",
        "    add_special_tokens=True,\n",
        "    max_length=128,\n",
        "    padding='max_length',\n",
        "    truncation=True,\n",
        "    return_tensors='pt',\n",
        "    return_attention_mask=True\n",
        ")\n",
        "\n",
        "# Extract input_ids and attention_mask\n",
        "input_ids = encoded_text['input_ids']\n",
        "attention_mask = encoded_text['attention_mask']\n",
        "\n",
        "# Move tensors to the appropriate device\n",
        "input_ids = input_ids.to(device)\n",
        "attention_mask = attention_mask.to(device)\n",
        "\n",
        "# Make a forward pass to get the model's prediction\n",
        "with torch.no_grad():\n",
        "    outputs = model(input_ids, attention_mask=attention_mask)\n",
        "\n",
        "logits = outputs.logits\n",
        "prediction = torch.argmax(logits, dim=1).item()\n",
        "\n",
        "# Map the prediction back to the original label\n",
        "predicted_label = [key for key, value in sentiment_label_mapping.items() if value == prediction][0]\n",
        "\n",
        "print(f\"Your text: {your_text}\")\n",
        "print(f\"Predicted sentiment: {predicted_label}\")\n"
      ],
      "metadata": {
        "colab": {
          "base_uri": "https://localhost:8080/"
        },
        "id": "NnivXqLrbWOx",
        "outputId": "d621b58a-ae58-4ae8-aef8-ba8e4f68860a"
      },
      "execution_count": null,
      "outputs": [
        {
          "output_type": "stream",
          "name": "stdout",
          "text": [
            "Your text:  Animal proves to be a colossal disappointment that leaves audiences questioning the sanity of its creators lots of critics are giving paid five star or four star reviews do not believe them this movie is nothing but a sob begging for the attention from his billionaire father such plot is stretched for almost four hours got no idea which person wrote such a story and ranbir agreed to do such a film when his career is already sinking Director Sandeep Vanga known for his previous work in Kabir Singh fails to replicate his earlier success instead delivering a convoluted storyline that lacks direction and purpose Vanga has a thing with misogyny and films objectifying women in kabir singh shahid is slapping kiara and in animal ranbir is glorifying infidellity by claiming its right in the name of his father what could go more pathetic than this \n",
            "Predicted sentiment: neg\n"
          ]
        }
      ]
    }
  ]
}
